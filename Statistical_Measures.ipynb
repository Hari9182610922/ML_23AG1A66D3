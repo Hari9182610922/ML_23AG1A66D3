{
  "nbformat": 4,
  "nbformat_minor": 0,
  "metadata": {
    "colab": {
      "provenance": [],
      "authorship_tag": "ABX9TyOhQB4KTBHbGD+35hvIUbMm",
      "include_colab_link": true
    },
    "kernelspec": {
      "name": "python3",
      "display_name": "Python 3"
    },
    "language_info": {
      "name": "python"
    }
  },
  "cells": [
    {
      "cell_type": "markdown",
      "metadata": {
        "id": "view-in-github",
        "colab_type": "text"
      },
      "source": [
        "<a href=\"https://colab.research.google.com/github/Hari9182610922/ML_23AG1A66D3/blob/main/Statistical_Measures.ipynb\" target=\"_parent\"><img src=\"https://colab.research.google.com/assets/colab-badge.svg\" alt=\"Open In Colab\"/></a>"
      ]
    },
    {
      "cell_type": "code",
      "execution_count": 1,
      "metadata": {
        "colab": {
          "base_uri": "https://localhost:8080/"
        },
        "id": "royZ3ZHjVJSi",
        "outputId": "c6ab3206-7b9d-446f-e534-0aed1e686460"
      },
      "outputs": [
        {
          "output_type": "stream",
          "name": "stdout",
          "text": [
            "Mean: 5\n",
            "Median: 4.5\n",
            "Mode: 4\n",
            "Variance: 4.0\n",
            "Standard Deviation: 2.0\n"
          ]
        }
      ],
      "source": [
        "import numpy as np\n",
        "from statistics import mean, median, mode\n",
        "\n",
        "# Example data\n",
        "data = [2, 4, 4, 4, 5, 5, 7, 9]\n",
        "\n",
        "# Central Tendency Measures\n",
        "print(\"Mean:\", mean(data))         # Mean\n",
        "print(\"Median:\", median(data))     # Median\n",
        "print(\"Mode:\", mode(data))         # Mode\n",
        "\n",
        "# Measures of Dispersion\n",
        "print(\"Variance:\", np.var(data))            # Variance (Population)\n",
        "print(\"Standard Deviation:\", np.std(data))  # Standard Deviation (Population)"
      ]
    },
    {
      "cell_type": "code",
      "source": [
        "\n",
        "import math\n",
        "print(math.ceil(2.3))\n",
        "print(math.floor(2.7))\n",
        "print(math.trunc(8.9))"
      ],
      "metadata": {
        "colab": {
          "base_uri": "https://localhost:8080/"
        },
        "id": "BEWVZ-xuZOV1",
        "outputId": "0e5a75ea-97b3-4edd-9976-e48c05f60807"
      },
      "execution_count": 2,
      "outputs": [
        {
          "output_type": "stream",
          "name": "stdout",
          "text": [
            "3\n",
            "2\n",
            "8\n"
          ]
        }
      ]
    },
    {
      "cell_type": "code",
      "source": [
        "print(math.pow(2, 3))\n",
        "print(math.sqrt(16))\n",
        "print(math.exp(2))\n",
        "print(math.log(100, 10))"
      ],
      "metadata": {
        "colab": {
          "base_uri": "https://localhost:8080/"
        },
        "id": "e1lwzR-zZQY3",
        "outputId": "65a9c95b-084e-4844-b86d-4aec418fff04"
      },
      "execution_count": 3,
      "outputs": [
        {
          "output_type": "stream",
          "name": "stdout",
          "text": [
            "8.0\n",
            "4.0\n",
            "7.38905609893065\n",
            "2.0\n"
          ]
        }
      ]
    },
    {
      "cell_type": "code",
      "source": [
        "\n",
        "print(math.sin(math.pi/2))\n",
        "print(math.cos(0))\n",
        "print(math.tan(math.pi/4))\n",
        "\n",
        "print(math.radians(90))\n",
        "\n",
        "print(math.degrees(math.pi))"
      ],
      "metadata": {
        "colab": {
          "base_uri": "https://localhost:8080/"
        },
        "id": "JVvqyckIZbUO",
        "outputId": "b0b2cc6f-b9d6-4da9-d17c-b2d1db6ced3f"
      },
      "execution_count": 4,
      "outputs": [
        {
          "output_type": "stream",
          "name": "stdout",
          "text": [
            "1.0\n",
            "1.0\n",
            "0.9999999999999999\n",
            "1.5707963267948966\n",
            "180.0\n"
          ]
        }
      ]
    },
    {
      "cell_type": "code",
      "source": [
        "print(math.factorial(5))\n",
        "print(math.gcd(20, 8))\n",
        "print(math.fabs(-7.5))\n",
        ""
      ],
      "metadata": {
        "colab": {
          "base_uri": "https://localhost:8080/"
        },
        "id": "4L1Xp6vqZgYr",
        "outputId": "241f1ec7-82d9-4b8d-a61e-7e8372f8792f"
      },
      "execution_count": 5,
      "outputs": [
        {
          "output_type": "stream",
          "name": "stdout",
          "text": [
            "120\n",
            "4\n",
            "7.5\n"
          ]
        }
      ]
    },
    {
      "cell_type": "code",
      "source": [
        "\n",
        "print(math.pi)\n",
        "print(math.e)"
      ],
      "metadata": {
        "colab": {
          "base_uri": "https://localhost:8080/"
        },
        "id": "UsxcHvfbZh72",
        "outputId": "4801703c-8b90-4bd0-b4d1-2800aceae5ac"
      },
      "execution_count": 6,
      "outputs": [
        {
          "output_type": "stream",
          "name": "stdout",
          "text": [
            "3.141592653589793\n",
            "2.718281828459045\n"
          ]
        }
      ]
    },
    {
      "cell_type": "code",
      "source": [
        "\n",
        "#Print the constant value of PI:\n",
        "\n",
        "from scipy import constants\n",
        "\n",
        "print(constants.pi)\n",
        "\n",
        "print(constants.yotta)    #1e+24\n",
        "print(constants.zetta)    #1e+21\n",
        "print(constants.exa)      #1e+18\n",
        "print(constants.peta)     #1000000000000000.0\n",
        "print(constants.tera)     #1000000000000.0\n",
        "print(constants.giga)     #1000000000.0\n",
        "print(constants.mega)     #1000000.0\n",
        "print(constants.kilo)     #1000.0\n",
        "print(constants.hecto)    #100.0\n",
        "print(constants.deka)     #10.0\n",
        "print(constants.deci)     #0.1\n",
        "print(constants.centi)    #0.01\n",
        "print(constants.milli)    #0.001\n",
        "print(constants.micro)    #1e-06\n",
        "print(constants.nano)     #1e-09\n",
        "print(constants.pico)     #1e-12\n",
        "print(constants.femto)    #1e-15\n",
        "print(constants.atto)     #1e-18\n",
        "print(constants.zepto)    #1e-21"
      ],
      "metadata": {
        "colab": {
          "base_uri": "https://localhost:8080/"
        },
        "id": "673b5c_6Zs3a",
        "outputId": "6732c6e1-840d-4c75-9bf7-823bf1a8d147"
      },
      "execution_count": 7,
      "outputs": [
        {
          "output_type": "stream",
          "name": "stdout",
          "text": [
            "3.141592653589793\n",
            "1e+24\n",
            "1e+21\n",
            "1e+18\n",
            "1000000000000000.0\n",
            "1000000000000.0\n",
            "1000000000.0\n",
            "1000000.0\n",
            "1000.0\n",
            "100.0\n",
            "10.0\n",
            "0.1\n",
            "0.01\n",
            "0.001\n",
            "1e-06\n",
            "1e-09\n",
            "1e-12\n",
            "1e-15\n",
            "1e-18\n",
            "1e-21\n"
          ]
        }
      ]
    },
    {
      "cell_type": "code",
      "source": [
        "#Binary Prefixes:\n",
        "#Return the specified unit in bytes (e.g. kibi returns 1024)\n",
        "\n",
        "print(constants.kibi)    #1024\n",
        "print(constants.mebi)    #1048576\n",
        "print(constants.gibi)    #1073741824\n",
        "print(constants.tebi)    #1099511627776\n",
        "print(constants.pebi)    #1125899906842624\n",
        "print(constants.exbi)    #1152921504606846976\n",
        "print(constants.zebi)    #1180591620717411303424\n",
        "print(constants.yobi)    #1208925819614629174706176"
      ],
      "metadata": {
        "colab": {
          "base_uri": "https://localhost:8080/"
        },
        "id": "9f2NKHW3Z0xt",
        "outputId": "b14a491a-d2d6-4881-dc2b-f75e4415c80c"
      },
      "execution_count": 8,
      "outputs": [
        {
          "output_type": "stream",
          "name": "stdout",
          "text": [
            "1024\n",
            "1048576\n",
            "1073741824\n",
            "1099511627776\n",
            "1125899906842624\n",
            "1152921504606846976\n",
            "1180591620717411303424\n",
            "1208925819614629174706176\n"
          ]
        }
      ]
    },
    {
      "cell_type": "code",
      "source": [
        "#Connected Components\n",
        "#Find all of the connected components with the connected_components() method.\n",
        "import numpy as np\n",
        "from scipy.sparse.csgraph import connected_components\n",
        "from scipy.sparse import csr_matrix\n",
        "\n",
        "arr = np.array([\n",
        "  [0, 1, 2],\n",
        "  [1, 0, 0],\n",
        "  [2, 0, 0]\n",
        "])\n",
        "\n",
        "newarr = csr_matrix(arr)\n",
        "\n",
        "print(connected_components(newarr))"
      ],
      "metadata": {
        "colab": {
          "base_uri": "https://localhost:8080/"
        },
        "id": "pGK-WlPJZ3Uy",
        "outputId": "bb6ba257-21b6-4890-c785-f488840b04b0"
      },
      "execution_count": 9,
      "outputs": [
        {
          "output_type": "stream",
          "name": "stdout",
          "text": [
            "(1, array([0, 0, 0], dtype=int32))\n"
          ]
        }
      ]
    },
    {
      "cell_type": "code",
      "source": [
        "#Find the shortest path from element 1 to 2:\n",
        "\n",
        "import numpy as np\n",
        "from scipy.sparse.csgraph import dijkstra\n",
        "from scipy.sparse import csr_matrix\n",
        "\n",
        "arr = np.array([\n",
        "  [0, 1, 2],\n",
        "  [1, 0, 0],\n",
        "  [2, 0, 0]\n",
        "])\n",
        "\n",
        "newarr = csr_matrix(arr)\n",
        "\n",
        "print(dijkstra(newarr, return_predecessors=True, indices=0))"
      ],
      "metadata": {
        "colab": {
          "base_uri": "https://localhost:8080/"
        },
        "id": "3kM1D19-aPpD",
        "outputId": "8863ab65-164f-4053-d5f3-751b20487b6f"
      },
      "execution_count": 10,
      "outputs": [
        {
          "output_type": "stream",
          "name": "stdout",
          "text": [
            "(array([0., 1., 2.]), array([-9999,     0,     0], dtype=int32))\n"
          ]
        }
      ]
    },
    {
      "cell_type": "code",
      "source": [
        "\n",
        "#Floyd Warshall\n",
        "#Use the floyd_warshall() method to find shortest path between all pairs of elements.\n",
        "\n",
        "#Find the shortest path between all pairs of elements:\n",
        "\n",
        "import numpy as np\n",
        "from scipy.sparse.csgraph import floyd_warshall\n",
        "from scipy.sparse import csr_matrix\n",
        "\n",
        "arr = np.array([\n",
        "  [0, 1, 2],\n",
        "  [1, 0, 0],\n",
        "  [2, 0, 0]\n",
        "])\n",
        "\n",
        "newarr = csr_matrix(arr)\n",
        "\n",
        "print(floyd_warshall(newarr, return_predecessors=True))"
      ],
      "metadata": {
        "colab": {
          "base_uri": "https://localhost:8080/"
        },
        "id": "TDQgbWepaVEy",
        "outputId": "cb840dbb-76f8-4d9f-f333-f2f7670f7f8e"
      },
      "execution_count": 11,
      "outputs": [
        {
          "output_type": "stream",
          "name": "stdout",
          "text": [
            "(array([[0., 1., 2.],\n",
            "       [1., 0., 3.],\n",
            "       [2., 3., 0.]]), array([[-9999,     0,     0],\n",
            "       [    1, -9999,     0],\n",
            "       [    2,     0, -9999]], dtype=int32))\n"
          ]
        }
      ]
    },
    {
      "cell_type": "code",
      "source": [
        "#Bellman Ford\n",
        "#The bellman_ford() method can also find the shortest path between all pairs of elements, but this method can handle negative weights as well.\n",
        "\n",
        "#Find shortest path from element 1 to 2 with given graph with a negative weight:\n",
        "\n",
        "import numpy as np\n",
        "from scipy.sparse.csgraph import bellman_ford\n",
        "from scipy.sparse import csr_matrix\n",
        "\n",
        "arr = np.array([\n",
        "  [0, -1, 2],\n",
        "  [1, 0, 0],\n",
        "  [2, 0, 0]\n",
        "])\n",
        "\n",
        "newarr = csr_matrix(arr)\n",
        "\n",
        "print(bellman_ford(newarr, return_predecessors=True, indices=0))"
      ],
      "metadata": {
        "colab": {
          "base_uri": "https://localhost:8080/"
        },
        "id": "r8l7YCmmaeKZ",
        "outputId": "c3b0bfc1-98be-4445-8360-e942e217b170"
      },
      "execution_count": 12,
      "outputs": [
        {
          "output_type": "stream",
          "name": "stdout",
          "text": [
            "(array([ 0., -1.,  2.]), array([-9999,     0,     0], dtype=int32))\n"
          ]
        }
      ]
    }
  ]
}